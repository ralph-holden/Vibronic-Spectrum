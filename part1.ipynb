{
 "cells": [
  {
   "cell_type": "markdown",
   "id": "ceb6b6ee",
   "metadata": {},
   "source": [
    "## Part 1 of TDQM coursework"
   ]
  },
  {
   "cell_type": "code",
   "execution_count": 1,
   "id": "7b41125a",
   "metadata": {},
   "outputs": [
    {
     "name": "stdout",
     "output_type": "stream",
     "text": [
      "Populating the interactive namespace from numpy and matplotlib\n"
     ]
    }
   ],
   "source": [
    "# # # imports # # #\n",
    "%pylab qt\n",
    "%run tdqm_functions"
   ]
  },
  {
   "cell_type": "markdown",
   "id": "02d607b1",
   "metadata": {},
   "source": [
    "The power spectrum through a vibronic transition is, due to simplifications that follow the Born-Oppenheimer approximation, the vibrational wavepacket on the ground state multiplied by the transition dipole moment, moving on the excited state potential energy surface."
   ]
  },
  {
   "cell_type": "markdown",
   "id": "0bbbb3fe",
   "metadata": {},
   "source": [
    "Create light purterbed power spectrum for ground state"
   ]
  },
  {
   "cell_type": "markdown",
   "id": "7bf2cc06",
   "metadata": {},
   "source": [
    "$\\sigma (\\omega ) = \\frac{2\\pi \\omega}{2 \\hbar c} \\int_{- \\infty}^{\\infty} \\langle \\varphi(0) | e^{\\frac{-i \\hat{H}_2 t}{\\hbar}} | \\varphi(0) \\rangle \\: e^{i (\\frac{E_i}{\\hbar}+\\omega)} \\,dt $\n",
    "\n",
    "Where $\\varphi(t)$ is equal to $\\underline{\\mu}(x,t) \\psi(x,t)$, and $E_i$ is the vibronic transition??"
   ]
  },
  {
   "cell_type": "markdown",
   "id": "82f33561",
   "metadata": {},
   "source": [
    "We are looking at the autocorrelation function between the ground state and excited state vibrations.\n",
    "\n",
    "Could we get power spectra of the dipole operated ground state, and wavepacket made up of the first few eigenstates of the excited state, then use these power spectra to take the difference, thereby getting the vibrational transition energies between electronic states? \n",
    "\n",
    "NOTE:\n",
    "The resolution &Delta;&omega; of the frequency grid depends on the total length of the time interval (the time range), so if N is the number of points in the time grid and &Delta;t the spacing between them, then\n",
    "\n",
    "$$\\Delta\\omega=\\frac{\\sqrt{2\\pi}}{N \\Delta t}.$$\n",
    "\n",
    "The range of the frequency grid, spanning from \\[-&Omega;,&Omega;\\] depends on the resolution of the time grid:\n",
    "\n",
    "$$\\Omega=\\frac{\\sqrt{\\pi}}{\\Delta t}.$$\n",
    "\n",
    "#### Trial 0: - testing\n",
    "\n",
    "Finding the power spectrum of the ground state with the 0th eigenstate, \n",
    "\n",
    "and the power spectrum of the excited state, for a wavepacket made up of multiple eigenstates"
   ]
  },
  {
   "cell_type": "code",
   "execution_count": null,
   "id": "7dde9c5e",
   "metadata": {},
   "outputs": [],
   "source": [
    "# initiate class on ground electronic state potential\n",
    "trial0_g = Wavepkt(timestep = 0.05, nsteps = 1000, xmin = -25, xmax = 25, spacesteps= 5000, m = 1, estate='ground')\n",
    "\n",
    "# starting wf - 0th eigenstate \n",
    "trial0_g.initialise_wf_eigen([0])\n",
    "\n",
    "# propagate wf - build time dependant behaviour\n",
    "trial0_g.propagate_wf()\n",
    "\n",
    "# check simulation health\n",
    "animate_dynamics(trial0_g.x_grid,trial0_g.wf_dynamics,trial0_g.dt,V_harm(trial0_g.x_grid,trial0_g.x0,trial0_g.k))\n",
    "\n",
    "# NOTE: can see that wavepacket is oscillating slightly - Re part not standing wave!"
   ]
  },
  {
   "cell_type": "code",
   "execution_count": null,
   "id": "deb52f92",
   "metadata": {},
   "outputs": [],
   "source": [
    "# find power series using autocorrelation function and multiplied by dipole moment\n",
    "trial0_g.powerseries_lp()\n",
    "\n",
    "# find the peak position\n",
    "trial0_g.find_peak(trial0_g.x_grid[0],trial0_g.x_grid[-1])\n",
    "trial0_g.fpeaks"
   ]
  },
  {
   "cell_type": "code",
   "execution_count": null,
   "id": "c8f3844f",
   "metadata": {},
   "outputs": [],
   "source": [
    "# initiate class on excited electronic state potential\n",
    "trial0_e = Wavepkt(timestep = 0.1, nsteps = 500, xmin = -25, xmax = 25, spacesteps= 1000, m = 1, estate='excited')\n",
    "\n",
    "# starting wf - superposition of multiple eigenstates,\n",
    "# simulating a coherent transition to multiple energy levels\n",
    "trial0_e.initialise_wf_eigen([0,1,2,3])\n",
    "\n",
    "# propagate wf - build time dependant behaviour\n",
    "trial0_e.propagate_wf()\n",
    "\n",
    "# check simulation health\n",
    "animate_dynamics(trial0_e.x_grid,trial0_e.wf_dynamics,trial0_e.dt,V_harm(trial0_e.x_grid,trial0_e.x0,trial0_e.k))"
   ]
  },
  {
   "cell_type": "code",
   "execution_count": null,
   "id": "d98637f2",
   "metadata": {},
   "outputs": [],
   "source": [
    "# find the power series of the light purtibated wf\n",
    "trial0_e.powerseries_lp()\n",
    "\n",
    "# find the peaks\n",
    "trial0_e.find_peak(trial0_e.x_grid[0],trial0_e.x_grid[-1])\n",
    "trial0_e.fpeaks"
   ]
  },
  {
   "cell_type": "code",
   "execution_count": null,
   "id": "1608977b",
   "metadata": {},
   "outputs": [],
   "source": [
    "# plot the transition dipole moment - test\n",
    "plt.plot(trial0_e.x_grid,tdp(trial0_e.x_grid))"
   ]
  },
  {
   "cell_type": "markdown",
   "id": "097195ae",
   "metadata": {},
   "source": [
    "However, this doesn't really give a time dependant picture. This just gives a before and after, much like the non-time dependant description previously taught but with TD wavepackets.\n",
    "\n",
    "Instead, to simulate a system in which the nuclear wavepacket is transposed onto the excited electronic potential, an autocorrelation function for the wavepacket BETWEEN the potentials could be found.\n",
    "\n",
    "So, I need a gaussian wp on the ground state, and it's autocorrelation function with motion on the excited state.\n",
    "\n",
    "#### First trial:\n",
    "\n",
    "For this, the 0th vibrational eigenstate for the ground state (a gaussian) is projected onto the excited electronic state. This gaussian wavepacket from the ground state then propagates on the new potential.\n",
    "\n",
    "Find autocorrelation function between this and the propagation, both multiplied by $\\mu$ (in autocorrelation but not before)"
   ]
  },
  {
   "cell_type": "code",
   "execution_count": null,
   "id": "9fdc77b1",
   "metadata": {},
   "outputs": [],
   "source": [
    "# create the ground state 0th vibration\n",
    "ground_1st = Wavepkt(timestep = 0.1, nsteps = 5000, xmin = -15, xmax = 30, spacesteps= 20000, m = 1, estate='ground')"
   ]
  },
  {
   "cell_type": "code",
   "execution_count": null,
   "id": "a8d51119",
   "metadata": {},
   "outputs": [],
   "source": [
    "# set the initial wf with the eigenstates of the harmonic potential\n",
    "ground_1st.initialise_wf_eigen([0])\n",
    "\n",
    "# propagate these through the timesteps, on the other potential\n",
    "ground_1st.propagate_other(ground_1st.x0_e,ground_1st.k_e)"
   ]
  },
  {
   "cell_type": "code",
   "execution_count": null,
   "id": "8c3130dc",
   "metadata": {},
   "outputs": [],
   "source": [
    "# visualise\n",
    "animate_dynamics(ground_1st.x_grid,ground_1st.wf_dynamics,ground_1st.dt,V_harm(ground_1st.x_grid,ground_1st.x0_e,ground_1st.k_e))"
   ]
  },
  {
   "cell_type": "code",
   "execution_count": null,
   "id": "a9e17806",
   "metadata": {},
   "outputs": [],
   "source": [
    "# look at power series for this treatment\n",
    "ground_1st.powerseries_lp()"
   ]
  },
  {
   "cell_type": "code",
   "execution_count": null,
   "id": "c0573d1b",
   "metadata": {},
   "outputs": [],
   "source": [
    "# save it!\n",
    "ground_1st.save('trial1')"
   ]
  },
  {
   "cell_type": "code",
   "execution_count": null,
   "id": "ec4e9a74",
   "metadata": {},
   "outputs": [],
   "source": [
    "# load\n",
    "ground_1st.load('trial1')"
   ]
  },
  {
   "cell_type": "code",
   "execution_count": null,
   "id": "2b39d95b",
   "metadata": {},
   "outputs": [],
   "source": [
    "# find the peaks\n",
    "ground_1st.find_peak(0.15,0.175)\n",
    "ground_1st.fpeaks"
   ]
  },
  {
   "cell_type": "code",
   "execution_count": null,
   "id": "82ef1a8f",
   "metadata": {},
   "outputs": [],
   "source": [
    "# zero point energy\n",
    "print('Zero point energy (excited state):', ground_1st.fpeaks[0][0])\n",
    "print()\n",
    "\n",
    "# average peak separation and std\n",
    "for i in range(len(ground_1st.fpeaks)-1):\n",
    "    peak_separation = ground_1st.fpeaks[i+1] - ground_1st.fpeaks[i]\n",
    "\n",
    "print('Mean peak separation:', np.mean(peak_separation))\n",
    "print('STD:', np.std(peak_separation))"
   ]
  },
  {
   "attachments": {
    "Trial1_powerspectrum.png": {
     "image/png": "[encoded data removed]"
    }
   },
   "cell_type": "markdown",
   "id": "dfaa0e2e",
   "metadata": {},
   "source": [
    "So, with this treatment, the power spectrum is:\n",
    "\n",
    "![Trial1_powerspectrum.png](attachment:Trial1_powerspectrum.png)\n",
    "\n",
    "In this contains the vibrational energies of the excited electronic state and the frank condon factor \n",
    "\n",
    "The first peak (the zero point energy of the excited state) is $f_0 = 0.0289$\n",
    "\n",
    "The average separation of peaks (expect same for harmonic oscillator) is $0.0188$, with an STD of $0.0000$\n",
    "\n",
    "To find the absorbtion spectrum using this power spectrum. The energy scale must be shifted by (+) the 'core' energy of the electronic transition, $0.0718 E_h$ and (-) the zero point energy of the ground state potential $f_0 = 0.01255382$ (?) that is promoted from.\n",
    "\n",
    "To confirm the frank-condon factor, the inner product between different eigenstates can be found.\n",
    "\n",
    "##### PROBLEMS:\n",
    "\n",
    "1) tdp may not work for shifted potentials, will need to return potentials or shift tdp\n",
    "   \n",
    "1) b) Does the wavepacket need multiplying by the dipole before propagation?? Instead of just during autocorrellation function\n",
    "\n",
    "2) Although told to use harmonic potential for ground state, need to propagate onto rydberg.\n",
    "\n",
    "3) What should I use as the mass of the system?\n",
    "\n",
    "    Note: With too low a mass, the rydberg potential cannot contain the wavepacket"
   ]
  },
  {
   "cell_type": "code",
   "execution_count": null,
   "id": "2c0dce90",
   "metadata": {
    "scrolled": true
   },
   "outputs": [],
   "source": [
    "# transition dipole moment\n",
    "# how to shift??\n",
    "x_for_tdp = np.linspace(3,10,1000)\n",
    "\n",
    "plt.subplot(3, 1, 1)\n",
    "plt.plot(x_for_tdp,tdp(x_for_tdp))\n",
    "\n",
    "plt.subplot(3, 1, 2)\n",
    "plt.plot(x_for_tdp,tdp(x_for_tdp+x0_g))\n",
    "\n",
    "plt.subplot(3, 1, 3)\n",
    "x_for_eigen = np.linspace(0,10,1000)\n",
    "plt.plot(x_for_eigen,eigen_ho(x_for_eigen-x0_g,v=0,m=1,k=De_g * delt_g**2))\n",
    "\n",
    "# NOTE: code now changed to shift eigenvalue initialisation, for correspondance with dipole"
   ]
  },
  {
   "cell_type": "code",
   "execution_count": null,
   "id": "680f535d",
   "metadata": {},
   "outputs": [],
   "source": [
    "# comparing harmonic and rydberg potentials\n",
    "x_for_harm = np.linspace(-15,20,1000)\n",
    "\n",
    "plt.subplot(2, 1, 1)\n",
    "plt.plot(x_for_harm, V_harm(x_for_harm, x0_e-x0_g, De_e * delt_e**2)+Te)\n",
    "plt.plot(x_for_harm, V_rydberg(x_for_harm))\n",
    "plt.ylim(Te,Te+0.2)\n",
    "plt.xlim(-5,5)\n",
    "plt.grid(linestyle=':')\n",
    "\n",
    "plt.subplot(2, 1, 2)\n",
    "plt.plot(x_for_harm, V_harm(x_for_harm, 0, De_g * delt_g**2))\n",
    "plt.ylim(0,0.2)\n",
    "plt.xlim(-5,5)\n",
    "plt.grid(linestyle=':')"
   ]
  },
  {
   "cell_type": "markdown",
   "id": "71ecbe66",
   "metadata": {},
   "source": [
    "##### Second Trial:\n",
    "\n",
    "Using the rydberg potential to propagate the wavefunction, although still using the gaussian wavepacket from the eigenfunction of v = 0 on the ground state harmonic"
   ]
  },
  {
   "cell_type": "code",
   "execution_count": null,
   "id": "eaec6e41",
   "metadata": {},
   "outputs": [],
   "source": [
    "# ground state wavefunction - v=0 eigenfunction of harmonic \n",
    "# for now, trial of shorter time and larger spacestep\n",
    "ground_2nd = Wavepkt(timestep = 0.1, nsteps = 25000, xmin = 0, xmax = 50, spacesteps= 5000, m = 127*2, estate='ground')\n",
    "\n",
    "# set the initial wf with the eigenstates of the harmonic potential\n",
    "ground_2nd.initialise_wf_eigen([0])\n",
    "# for gwp initialisation:\n",
    "# ground_2nd.initialise_wf_gwp([0.0, 0.1, (ground_2nd.m * ground_2nd.k)**0.5 /2, 0.0])"
   ]
  },
  {
   "cell_type": "code",
   "execution_count": null,
   "id": "d4a2daf8",
   "metadata": {},
   "outputs": [],
   "source": [
    "# propagate these through the timesteps, on the other potential\n",
    "ground_2nd.propagate_rydberg()\n",
    "\n",
    "# look at power series for this treatment\n",
    "ground_2nd.powerseries_lp()"
   ]
  },
  {
   "cell_type": "code",
   "execution_count": null,
   "id": "a4d683d9",
   "metadata": {},
   "outputs": [],
   "source": [
    "# visualise\n",
    "animate_dynamics(ground_2nd.x_grid,ground_2nd.wf_dynamics,ground_2nd.dt,V_rydberg(ground_2nd.x_grid),frame_delay=0.001)"
   ]
  },
  {
   "cell_type": "markdown",
   "id": "9026d550",
   "metadata": {},
   "source": [
    "##### Second Trial (b): Multiplying WF by tdp BEFORE propagation\n",
    "\n",
    "create new method in Wavepkt class that does this"
   ]
  },
  {
   "cell_type": "code",
   "execution_count": null,
   "id": "90451a9b",
   "metadata": {},
   "outputs": [],
   "source": [
    "# ground state wavefunction - v=0 eigenfunction of harmonic \n",
    "# for now, trial of shorter time and larger spacestep\n",
    "ground_2b = Wavepkt(timestep = 1.5, nsteps = 8000, xmin = 0.001, xmax = 110, spacesteps= 8000, m = 127*2, estate='ground')\n",
    "\n",
    "# set the initial wf with the eigenstates of the harmonic potential\n",
    "ground_2b.initialise_wf_eigen([0])"
   ]
  },
  {
   "cell_type": "code",
   "execution_count": null,
   "id": "d54c166a",
   "metadata": {},
   "outputs": [],
   "source": [
    "# propagate these through the timesteps, on the other potential\n",
    "ground_2b.propagate_rydberg_tdp()"
   ]
  },
  {
   "cell_type": "code",
   "execution_count": null,
   "id": "90847d81",
   "metadata": {},
   "outputs": [],
   "source": [
    "# visualise\n",
    "animate_dynamics(ground_2b.x_grid,ground_2b.wf_dynamics,ground_2b.dt,V_rydberg(ground_2b.x_grid),frame_delay=0.001)\n",
    "\n",
    "# NOTE: can see effect of transition dipole moment on WP "
   ]
  },
  {
   "cell_type": "code",
   "execution_count": null,
   "id": "6932c540",
   "metadata": {},
   "outputs": [],
   "source": [
    "# look at power series for this treatment\n",
    "ground_2b.powerseries()"
   ]
  },
  {
   "cell_type": "markdown",
   "id": "ccc207b5",
   "metadata": {},
   "source": [
    "Method '2b', multiplying by tdp before propagation, appears to give the same power spectrum as '2a' method,\n",
    "###### this method is faster!\n",
    "BUT how to have sufficiently long time for good resolution, without developing edge artifacts due to escaping WP?\n",
    "- escaping WP error or true? - could this be from 'misaligned' initial WP on harmonic? (ie. from slight oscillation)\n",
    "\n",
    "- could this be due to a too light mass, therefore resolution acheived by using the high proton mass and as such long timescale, even if number of oscillation cycles are few (avoiding the edge artifacts at longer time)\n",
    "\n",
    "##### Trial: HEAVY (i.e. correct mass!)\n",
    "\n",
    "Using mass of $I^{127}_2$ in terms of electron mass reduced units\n",
    "\n",
    "Might need to use reduced mass for the oscillator, \n",
    "\n",
    "$ \\hspace{5cm}   m_{eff} = \\frac{m_1 m_2}{m_1 + m_2} $\n",
    "\n",
    "$ \\hspace{5cm} $ In which case ...\n",
    "\n",
    "$ \\hspace{5cm}   m_{eff} = \\frac{ 127^2 }{2 \\bullet 127} = \\frac{127}{2} \\frac{m_p}{m_e} \\approx \\frac{127}{2} \\bullet 1836 $"
   ]
  },
  {
   "cell_type": "code",
   "execution_count": 2,
   "id": "6444b9c8",
   "metadata": {},
   "outputs": [],
   "source": [
    "# ground state wavefunction - v=0 eigenfunction of harmonic \n",
    "heavy = Wavepkt(timestep = 2.0, nsteps = 50000, xmin = 2, xmax = 100, spacesteps= 5000, m = 127/2 * proton_mass_ratio, estate='ground')\n",
    "\n",
    "# set the initial wf with the eigenstates of the harmonic potential\n",
    "heavy.initialise_wf_eigen([0])"
   ]
  },
  {
   "cell_type": "code",
   "execution_count": 3,
   "id": "9d8000c6",
   "metadata": {},
   "outputs": [],
   "source": [
    "# propagate these through the timesteps, on the other potential\n",
    "heavy.propagate_rydberg_tdp()"
   ]
  },
  {
   "cell_type": "code",
   "execution_count": null,
   "id": "b4da46cf",
   "metadata": {},
   "outputs": [],
   "source": [
    "# visualise\n",
    "animate_dynamics(heavy.x_grid,heavy.wf_dynamics,heavy.dt,V_rydberg(heavy.x_grid),frame_delay=0.00001)\n",
    "\n",
    "# NOTE: can see artifacts"
   ]
  },
  {
   "cell_type": "code",
   "execution_count": 4,
   "id": "4cd2caf7",
   "metadata": {},
   "outputs": [
    {
     "name": "stderr",
     "output_type": "stream",
     "text": [
      "C:\\Users\\44775\\Anaconda\\lib\\site-packages\\numpy\\core\\_asarray.py:102: ComplexWarning: Casting complex values to real discards the imaginary part\n",
      "  return array(a, dtype, copy=False, order=order)\n"
     ]
    }
   ],
   "source": [
    "# calculate autocorrelation\n",
    "heavy.calc_autocorrelation()\n",
    "\n",
    "# look at autocorrelation\n",
    "heavy.plot_autocorrelation()"
   ]
  },
  {
   "cell_type": "code",
   "execution_count": 5,
   "id": "31699dd0",
   "metadata": {},
   "outputs": [],
   "source": [
    "# calculate power series\n",
    "heavy.calc_powerseries()\n",
    "# look at power series\n",
    "heavy.plot_powerseries()"
   ]
  },
  {
   "cell_type": "code",
   "execution_count": 6,
   "id": "0a52875d",
   "metadata": {},
   "outputs": [],
   "source": [
    "# calculate absorbtion\n",
    "heavy.calc_absorbtion(E_zeropoint = 0.0113086)\n",
    "# look at absorbtion\n",
    "heavy.plot_absorbtion()"
   ]
  },
  {
   "cell_type": "markdown",
   "id": "8f5e0b62",
   "metadata": {},
   "source": [
    "##### PART B: Finding the zero point energy of the ground state\n",
    "\n",
    "##### ATTEMPT A:\n",
    "- harmonic approximation\n",
    "- using eigenvalue solver\n",
    "- find SINGULAR value on power spectrum\n",
    "\n",
    "'Core' electronic energy difference more simple - difference in 'Te'"
   ]
  },
  {
   "cell_type": "code",
   "execution_count": null,
   "id": "ecea61f2",
   "metadata": {},
   "outputs": [],
   "source": [
    "# ground state wavefunction - v=0 eigenfunction of harmonic \n",
    "zpe = Wavepkt(timestep = 1.0, nsteps = 1000, xmin = x0_g-10, xmax = x0_g+10, spacesteps= 2000, m = 127*2, estate='ground')\n",
    "\n",
    "# set the initial wf with the eigenstates of the harmonic potential\n",
    "zpe.initialise_wf_eigen([0])\n",
    "\n",
    "# propagate wf - build time dependant behaviour\n",
    "zpe.propagate_wf()\n",
    "\n",
    "# check simulation health\n",
    "animate_dynamics(zpe.x_grid,zpe.wf_dynamics,zpe.dt,V_harm(zpe.x_grid,zpe.x0,zpe.k))"
   ]
  },
  {
   "cell_type": "markdown",
   "id": "a272a7e4",
   "metadata": {},
   "source": [
    "NOTE: \n",
    "- can see that wavepacket is oscillating slightly - Re part not standing wave! ROUNDING ERRORS?\n",
    "- some of the WP has y-axis of >1 ! - what is the y-axis? is this indicitive of poor health? NO"
   ]
  },
  {
   "cell_type": "code",
   "execution_count": null,
   "id": "f693be88",
   "metadata": {},
   "outputs": [],
   "source": [
    "# find power series using autocorrelation function and multiplied by dipole moment\n",
    "zpe.powerseries_lp()\n",
    "\n",
    "# find the peak position\n",
    "zpe.find_peak(zpe.x_grid[0],zpe.x_grid[-1],name='zero point energy')\n",
    "zpe.fpeaks"
   ]
  },
  {
   "cell_type": "markdown",
   "id": "c542cf77",
   "metadata": {},
   "source": [
    "##### ATTEMPT B:\n",
    "- eigenvalue solver using harmonic approximation\n",
    "- propagate on ground state rydberg\n",
    "- finding the FIRST value on the qausi-eigenfunction power spectrum (or absorbtion spectrum??)\n",
    "\n",
    "this gives a more accurate zero point energy"
   ]
  },
  {
   "cell_type": "code",
   "execution_count": null,
   "id": "a2117784",
   "metadata": {},
   "outputs": [],
   "source": [
    "# ground state wavefunction - v=0 eigenfunction of harmonic \n",
    "zpe = Wavepkt(timestep = 1.0, nsteps = 20000, xmin = x0_g-10, xmax = x0_g+10, spacesteps= 4000, m = 127/2 * proton_mass_ratio, estate='ground')\n",
    "\n",
    "# set the initial wf with the eigenstates of the harmonic potential\n",
    "zpe.initialise_wf_eigen([0])\n",
    "\n",
    "# propagate wf - build time dependant behaviour\n",
    "zpe.propagate_rydberg_tdp_g()\n",
    "\n",
    "# check simulation health\n",
    "animate_dynamics(zpe.x_grid,zpe.wf_dynamics,zpe.dt,V_rydberg_g(zpe.x_grid),frame_delay=0.001)"
   ]
  },
  {
   "cell_type": "code",
   "execution_count": null,
   "id": "045b14d2",
   "metadata": {},
   "outputs": [],
   "source": [
    "# find power series using autocorrelation function and multiplied by dipole moment\n",
    "zpe.calc_autocorrelation()\n",
    "\n",
    "zpe.calc_powerseries()\n",
    "\n",
    "# plot power series\n",
    "zpe.plot_powerseries()\n",
    "\n",
    "# find the peak position\n",
    "zpe.find_peak(zpe.x_grid[0],zpe.x_grid[-1],name='zero point energy')\n",
    "zpe.fpeaks"
   ]
  },
  {
   "cell_type": "markdown",
   "id": "37c1a7c8",
   "metadata": {},
   "source": [
    "### RESULT\n",
    "\n",
    "##### PART B"
   ]
  },
  {
   "cell_type": "markdown",
   "id": "286d2484",
   "metadata": {},
   "source": [
    "The peak position, in the reduced units, is 0.0113086\n",
    "\n",
    "The 'core' electronic energy (Te), from the minima of each adiabatic potential energy curves, is 0.168\n",
    "\n",
    "$\\therefore$ the 'SHIFTING' freqency, to go from the power to absorbtion spectrum is $0.168 - 0.011$\n",
    "\n",
    "###### 0.6066914"
   ]
  },
  {
   "cell_type": "markdown",
   "id": "30c18970",
   "metadata": {},
   "source": [
    "##### PART A"
   ]
  },
  {
   "cell_type": "code",
   "execution_count": null,
   "id": "987795f9",
   "metadata": {},
   "outputs": [],
   "source": []
  }
 ],
 "metadata": {
  "kernelspec": {
   "display_name": "Python 3",
   "language": "python",
   "name": "python3"
  },
  "language_info": {
   "codemirror_mode": {
    "name": "ipython",
    "version": 3
   },
   "file_extension": ".py",
   "mimetype": "text/x-python",
   "name": "python",
   "nbconvert_exporter": "python",
   "pygments_lexer": "ipython3",
   "version": "3.8.8"
  }
 },
 "nbformat": 4,
 "nbformat_minor": 5
}
